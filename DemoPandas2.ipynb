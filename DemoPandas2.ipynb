{
 "cells": [
  {
   "cell_type": "code",
   "execution_count": 5,
   "id": "857357a0",
   "metadata": {},
   "outputs": [
    {
     "data": {
      "text/plain": [
       "np.int64(300)"
      ]
     },
     "execution_count": 5,
     "metadata": {},
     "output_type": "execute_result"
    }
   ],
   "source": [
    "from pandas import Series, DataFrame\n",
    "import pandas as pd \n",
    "import numpy as np\n",
    "import matplotlib.pyplot as plt\n",
    "#내부에 차트를 출력(매직 명령어) \n",
    "%matplotlib inline\n",
    "\n",
    "#마이캠퍼스 시리즈 객체를 생성\n",
    "myCampus = Series([100,200,300,400,500], \n",
    "index=['2025-01-01','2025-01-02','2025-01-03',\n",
    "       '2025-01-04','2025-01-05'])\n",
    "\n",
    "#특정행을 슬라이싱\n",
    "myCampus[\"2025-01-03\"]\n",
    "#셀을 실행할 때 shift + enter"
   ]
  },
  {
   "cell_type": "code",
   "execution_count": null,
   "id": "cdf99ada",
   "metadata": {},
   "outputs": [
    {
     "data": {
      "text/html": [
       "<div>\n",
       "<style scoped>\n",
       "    .dataframe tbody tr th:only-of-type {\n",
       "        vertical-align: middle;\n",
       "    }\n",
       "\n",
       "    .dataframe tbody tr th {\n",
       "        vertical-align: top;\n",
       "    }\n",
       "\n",
       "    .dataframe thead th {\n",
       "        text-align: right;\n",
       "    }\n",
       "</style>\n",
       "<table border=\"1\" class=\"dataframe\">\n",
       "  <thead>\n",
       "    <tr style=\"text-align: right;\">\n",
       "      <th></th>\n",
       "      <th>제품명</th>\n",
       "      <th>가격</th>\n",
       "    </tr>\n",
       "  </thead>\n",
       "  <tbody>\n",
       "    <tr>\n",
       "      <th>0</th>\n",
       "      <td>아이폰17</td>\n",
       "      <td>1790000</td>\n",
       "    </tr>\n",
       "    <tr>\n",
       "      <th>1</th>\n",
       "      <td>아이폰16</td>\n",
       "      <td>1490000</td>\n",
       "    </tr>\n",
       "    <tr>\n",
       "      <th>2</th>\n",
       "      <td>아이폰15</td>\n",
       "      <td>1290000</td>\n",
       "    </tr>\n",
       "  </tbody>\n",
       "</table>\n",
       "</div>"
      ],
      "text/plain": [
       "     제품명       가격\n",
       "0  아이폰17  1790000\n",
       "1  아이폰16  1490000\n",
       "2  아이폰15  1290000"
      ]
     },
     "execution_count": 6,
     "metadata": {},
     "output_type": "execute_result"
    }
   ],
   "source": [
    "#리스트를 Dataframe으로 변환\n",
    "sample1 = [[\"아이폰17\",1790000], [\"아이폰16\",1490000],\n",
    "    [\"아이폰15\",1290000]]\n",
    "column1 = [\"제품명\",\"가격\"]\n",
    "df1 = DataFrame(data=sample1, columns=column1)\n",
    "df1 "
   ]
  },
  {
   "cell_type": "code",
   "execution_count": 8,
   "id": "d2ad87a2",
   "metadata": {},
   "outputs": [
    {
     "data": {
      "text/html": [
       "<div>\n",
       "<style scoped>\n",
       "    .dataframe tbody tr th:only-of-type {\n",
       "        vertical-align: middle;\n",
       "    }\n",
       "\n",
       "    .dataframe tbody tr th {\n",
       "        vertical-align: top;\n",
       "    }\n",
       "\n",
       "    .dataframe thead th {\n",
       "        text-align: right;\n",
       "    }\n",
       "</style>\n",
       "<table border=\"1\" class=\"dataframe\">\n",
       "  <thead>\n",
       "    <tr style=\"text-align: right;\">\n",
       "      <th></th>\n",
       "      <th>foreigner</th>\n",
       "      <th>sratio</th>\n",
       "      <th>org</th>\n",
       "      <th>sprice</th>\n",
       "      <th>private</th>\n",
       "    </tr>\n",
       "  </thead>\n",
       "  <tbody>\n",
       "    <tr>\n",
       "      <th>0</th>\n",
       "      <td>1</td>\n",
       "      <td>10</td>\n",
       "      <td>100</td>\n",
       "      <td>1</td>\n",
       "      <td>10</td>\n",
       "    </tr>\n",
       "    <tr>\n",
       "      <th>1</th>\n",
       "      <td>2</td>\n",
       "      <td>20</td>\n",
       "      <td>200</td>\n",
       "      <td>2</td>\n",
       "      <td>20</td>\n",
       "    </tr>\n",
       "    <tr>\n",
       "      <th>2</th>\n",
       "      <td>3</td>\n",
       "      <td>30</td>\n",
       "      <td>300</td>\n",
       "      <td>3</td>\n",
       "      <td>30</td>\n",
       "    </tr>\n",
       "    <tr>\n",
       "      <th>3</th>\n",
       "      <td>4</td>\n",
       "      <td>40</td>\n",
       "      <td>400</td>\n",
       "      <td>4</td>\n",
       "      <td>40</td>\n",
       "    </tr>\n",
       "    <tr>\n",
       "      <th>4</th>\n",
       "      <td>5</td>\n",
       "      <td>50</td>\n",
       "      <td>500</td>\n",
       "      <td>5</td>\n",
       "      <td>50</td>\n",
       "    </tr>\n",
       "    <tr>\n",
       "      <th>5</th>\n",
       "      <td>6</td>\n",
       "      <td>60</td>\n",
       "      <td>600</td>\n",
       "      <td>6</td>\n",
       "      <td>60</td>\n",
       "    </tr>\n",
       "  </tbody>\n",
       "</table>\n",
       "</div>"
      ],
      "text/plain": [
       "   foreigner  sratio  org  sprice  private\n",
       "0          1      10  100       1       10\n",
       "1          2      20  200       2       20\n",
       "2          3      30  300       3       30\n",
       "3          4      40  400       4       40\n",
       "4          5      50  500       5       50\n",
       "5          6      60  600       6       60"
      ]
     },
     "execution_count": 8,
     "metadata": {},
     "output_type": "execute_result"
    }
   ],
   "source": [
    "#dict를 DataFrame으로 변환\n",
    "data = {\"foreigner\":[1,2,3,4,5,6], \n",
    "        \"sratio\":[10,20,30,40,50,60],\n",
    "        \"org\":[100,200,300,400,500,600],\n",
    "        \"sprice\":[1,2,3,4,5,6], \n",
    "        \"private\":[10,20,30,40,50,60]\n",
    "}\n",
    "\n",
    "frame1 = DataFrame(data)\n",
    "frame1 "
   ]
  },
  {
   "cell_type": "code",
   "execution_count": 13,
   "id": "1bd290e9",
   "metadata": {},
   "outputs": [
    {
     "data": {
      "text/plain": [
       "2025-09-01    10\n",
       "2025-09-02    20\n",
       "2025-09-03    30\n",
       "2025-09-04    40\n",
       "2025-09-05    50\n",
       "2025-09-06    60\n",
       "Name: private, dtype: int64"
      ]
     },
     "execution_count": 13,
     "metadata": {},
     "output_type": "execute_result"
    }
   ],
   "source": [
    "#컬럼의 순서를 지정\n",
    "frame2 = DataFrame(data, \n",
    "    columns=[\"foreigner\",\"org\",\"private\",\"sprice\",\"sratio\"], \n",
    "    index=[\"2025-09-01\",\"2025-09-02\",\"2025-09-03\",\n",
    "           \"2025-09-04\",\"2025-09-05\",\"2025-09-06\"])\n",
    "\n",
    "frame2 \n",
    "#Dataframe을 시리즈로 자르기 \n",
    "frame2[\"private\"] "
   ]
  },
  {
   "cell_type": "code",
   "execution_count": 16,
   "id": "cbb4fb8f",
   "metadata": {},
   "outputs": [
    {
     "data": {
      "text/plain": [
       "foreigner      1\n",
       "org          100\n",
       "private       10\n",
       "sprice         1\n",
       "sratio        10\n",
       "Name: 2025-09-01, dtype: int64"
      ]
     },
     "execution_count": 16,
     "metadata": {},
     "output_type": "execute_result"
    }
   ],
   "source": [
    "#특정 행을 슬라이싱(location 약어)\n",
    "frame2.loc[\"2025-09-01\"]"
   ]
  },
  {
   "cell_type": "code",
   "execution_count": 17,
   "id": "2a14404b",
   "metadata": {},
   "outputs": [
    {
     "data": {
      "text/html": [
       "<div>\n",
       "<style scoped>\n",
       "    .dataframe tbody tr th:only-of-type {\n",
       "        vertical-align: middle;\n",
       "    }\n",
       "\n",
       "    .dataframe tbody tr th {\n",
       "        vertical-align: top;\n",
       "    }\n",
       "\n",
       "    .dataframe thead th {\n",
       "        text-align: right;\n",
       "    }\n",
       "</style>\n",
       "<table border=\"1\" class=\"dataframe\">\n",
       "  <thead>\n",
       "    <tr style=\"text-align: right;\">\n",
       "      <th></th>\n",
       "      <th>2025-09-01</th>\n",
       "      <th>2025-09-02</th>\n",
       "      <th>2025-09-03</th>\n",
       "      <th>2025-09-04</th>\n",
       "      <th>2025-09-05</th>\n",
       "      <th>2025-09-06</th>\n",
       "    </tr>\n",
       "  </thead>\n",
       "  <tbody>\n",
       "    <tr>\n",
       "      <th>foreigner</th>\n",
       "      <td>1</td>\n",
       "      <td>2</td>\n",
       "      <td>3</td>\n",
       "      <td>4</td>\n",
       "      <td>5</td>\n",
       "      <td>6</td>\n",
       "    </tr>\n",
       "    <tr>\n",
       "      <th>org</th>\n",
       "      <td>100</td>\n",
       "      <td>200</td>\n",
       "      <td>300</td>\n",
       "      <td>400</td>\n",
       "      <td>500</td>\n",
       "      <td>600</td>\n",
       "    </tr>\n",
       "    <tr>\n",
       "      <th>private</th>\n",
       "      <td>10</td>\n",
       "      <td>20</td>\n",
       "      <td>30</td>\n",
       "      <td>40</td>\n",
       "      <td>50</td>\n",
       "      <td>60</td>\n",
       "    </tr>\n",
       "    <tr>\n",
       "      <th>sprice</th>\n",
       "      <td>1</td>\n",
       "      <td>2</td>\n",
       "      <td>3</td>\n",
       "      <td>4</td>\n",
       "      <td>5</td>\n",
       "      <td>6</td>\n",
       "    </tr>\n",
       "    <tr>\n",
       "      <th>sratio</th>\n",
       "      <td>10</td>\n",
       "      <td>20</td>\n",
       "      <td>30</td>\n",
       "      <td>40</td>\n",
       "      <td>50</td>\n",
       "      <td>60</td>\n",
       "    </tr>\n",
       "  </tbody>\n",
       "</table>\n",
       "</div>"
      ],
      "text/plain": [
       "           2025-09-01  2025-09-02  2025-09-03  2025-09-04  2025-09-05  \\\n",
       "foreigner           1           2           3           4           5   \n",
       "org               100         200         300         400         500   \n",
       "private            10          20          30          40          50   \n",
       "sprice              1           2           3           4           5   \n",
       "sratio             10          20          30          40          50   \n",
       "\n",
       "           2025-09-06  \n",
       "foreigner           6  \n",
       "org               600  \n",
       "private            60  \n",
       "sprice              6  \n",
       "sratio             60  "
      ]
     },
     "execution_count": 17,
     "metadata": {},
     "output_type": "execute_result"
    }
   ],
   "source": [
    "#피보팅을 하면(열과 형을 변환)\n",
    "frame2.T "
   ]
  },
  {
   "cell_type": "code",
   "execution_count": null,
   "id": "0991976d",
   "metadata": {},
   "outputs": [],
   "source": []
  }
 ],
 "metadata": {
  "kernelspec": {
   "display_name": "Python 3",
   "language": "python",
   "name": "python3"
  },
  "language_info": {
   "codemirror_mode": {
    "name": "ipython",
    "version": 3
   },
   "file_extension": ".py",
   "mimetype": "text/x-python",
   "name": "python",
   "nbconvert_exporter": "python",
   "pygments_lexer": "ipython3",
   "version": "3.10.9"
  }
 },
 "nbformat": 4,
 "nbformat_minor": 5
}
